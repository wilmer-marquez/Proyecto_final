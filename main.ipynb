{
 "cells": [
  {
   "cell_type": "raw",
   "metadata": {},
   "source": [
    "crear consultas continuas para crear la alerta por mensaje. googlear servidor casero correr codigo python manera continua"
   ]
  },
  {
   "cell_type": "markdown",
   "metadata": {},
   "source": [
    "Enlace a tu repositorio de GitHub: [Wilmer Marquez](https://github.com/wilmer-marquez?tab=repositories)"
   ]
  },
  {
   "cell_type": "markdown",
   "metadata": {},
   "source": [
    "## Descripcion de las columnas\n",
    "\n",
    "**mag:** Magnitud en escala richter [0-10]\n",
    "\n",
    "**place:** descripcion textual de la region geografica del evento \n",
    "\n",
    "**time:** datetime del evento\n",
    "\n",
    "**felt:** numero de reportes de sensacion del evento\n",
    "\n",
    "**cdi:** intensidad maxima reportada del evento[0.0-10.0]\n",
    "\n",
    "**alert:** nivel de alerta del evento: \"green\",\"yellow\",\"orange\",\"red\"\n",
    "\n",
    "**tsunami:** establece dos valores, 1 para grandes eventos y 0 para lo contrario. El 0 no indica si existio o existira, pero determina que no habra grandes riesgos \n",
    "\n",
    "**sig:** describe cuan significativo fue el evento [0-1000]\n",
    "\n",
    "**nst:** numero de estaciones que informaron el evento\n",
    "\n",
    "**mgType:** metodo del algoritmo usado para medir la magnitud, estas pueden ser: \"Md\",\"Ml\",\"Ms\",\"Mw\",\"Me\",\"Mi\",\"Mb\",\"Mlg\"\n",
    "\n",
    "**longitud:** grados decimales de longitud, valores negativos para longitudes occidentales[-180.0 - 180.0]\n",
    "\n",
    "**latitud:** grados decimales latitud, valores negativos para latitudes del sur[-90.0 - 90.0]\n",
    "\n",
    "**profundidad:** profundida maxima en kilometros del evento"
   ]
  },
  {
   "cell_type": "markdown",
   "metadata": {},
   "source": [
    "# Extracción"
   ]
  },
  {
   "cell_type": "code",
   "execution_count": null,
   "metadata": {},
   "outputs": [],
   "source": [
    "import pandas as pd\n",
    "import requests as req\n",
    "import numpy as np\n",
    "import folium #libreria para hacer mapas\n",
    "import seaborn as sns\n",
    "import matplotlib.pyplot as plt\n",
    "import plotly.express as px\n",
    "import plotly.graph_objects as go\n",
    "# Matplotlib inline para visualizar los gráficos de Matplotlib\n",
    "#Para que se vean los gráficos en el notebook\n",
    "%matplotlib inline \n",
    "#Para que se vean los gráficos en alta resolución\n",
    "%config Inlinebackend.figure_format= 'retina' \n",
    "# Configuración para setear y que todas las fig de Seaborn salgan por defecto con este tamaño\n",
    "# Se puede especificar el tamaño de cada figura\n",
    "sns.set_context(\"poster\") #paper, notebook, talk, poster\n",
    "sns.set(rc={\"figure.figsize\": (12.,10.)}) #Tamaño de las figuras\n",
    "sns.set_style(\"darkgrid\") #darkgrid, whitegrid, dark, white, ticks"
   ]
  },
  {
   "cell_type": "code",
   "execution_count": null,
   "metadata": {},
   "outputs": [],
   "source": [
    "URL_BASE='https://earthquake.usgs.gov/fdsnws/event/1/'"
   ]
  },
  {
   "cell_type": "code",
   "execution_count": null,
   "metadata": {},
   "outputs": [],
   "source": [
    "busqueda='/query?format=geojson&starttime=2023-06-01&endtime=2023-07-05'"
   ]
  },
  {
   "cell_type": "code",
   "execution_count": null,
   "metadata": {},
   "outputs": [],
   "source": [
    "URL_BASE+busqueda"
   ]
  },
  {
   "cell_type": "code",
   "execution_count": null,
   "metadata": {},
   "outputs": [],
   "source": [
    "response=req.get(URL_BASE+busqueda)\n",
    "\n",
    "response"
   ]
  },
  {
   "cell_type": "code",
   "execution_count": null,
   "metadata": {},
   "outputs": [],
   "source": [
    "terre = response.json()['features']\n",
    "terre"
   ]
  },
  {
   "cell_type": "code",
   "execution_count": null,
   "metadata": {},
   "outputs": [],
   "source": [
    "terremoto = pd.DataFrame(terre)\n",
    "terremoto"
   ]
  },
  {
   "cell_type": "markdown",
   "metadata": {},
   "source": [
    "# Limpieza"
   ]
  },
  {
   "cell_type": "code",
   "execution_count": null,
   "metadata": {},
   "outputs": [],
   "source": [
    "terremoto = terremoto.drop(columns=['id','type'])\n",
    "terremoto"
   ]
  },
  {
   "cell_type": "code",
   "execution_count": null,
   "metadata": {},
   "outputs": [],
   "source": [
    "terremoto.geometry.iloc[0]"
   ]
  },
  {
   "cell_type": "code",
   "execution_count": null,
   "metadata": {},
   "outputs": [],
   "source": [
    "terremoto.properties.iloc[0]"
   ]
  },
  {
   "cell_type": "code",
   "execution_count": null,
   "metadata": {},
   "outputs": [],
   "source": [
    "terro1 = terremoto.properties\n",
    "terro1"
   ]
  },
  {
   "cell_type": "code",
   "execution_count": null,
   "metadata": {},
   "outputs": [],
   "source": [
    "terro2 = terremoto.geometry\n",
    "terro2"
   ]
  },
  {
   "cell_type": "code",
   "execution_count": null,
   "metadata": {},
   "outputs": [],
   "source": [
    "terremo1 = pd.json_normalize(terro1)\n",
    "terremo1"
   ]
  },
  {
   "cell_type": "code",
   "execution_count": null,
   "metadata": {},
   "outputs": [],
   "source": [
    "terremo2 = pd.json_normalize(terro2)\n",
    "terremo2"
   ]
  },
  {
   "cell_type": "code",
   "execution_count": null,
   "metadata": {},
   "outputs": [],
   "source": [
    "terremo2[['longitud', 'latitud', 'profundidad']] = pd.DataFrame(terremo2['coordinates'].tolist())\n",
    "terremo2"
   ]
  },
  {
   "cell_type": "code",
   "execution_count": null,
   "metadata": {},
   "outputs": [],
   "source": [
    "terremo2 = terremo2.drop(columns=['coordinates','type'])\n",
    "terremo2"
   ]
  },
  {
   "cell_type": "code",
   "execution_count": null,
   "metadata": {},
   "outputs": [],
   "source": [
    "terremo1.sample(5)"
   ]
  },
  {
   "cell_type": "code",
   "execution_count": null,
   "metadata": {},
   "outputs": [],
   "source": [
    "terremo1 = terremo1.drop(columns=['url','updated','detail','ids','title','gap','dmin','mmi','type','code','status','net',\n",
    "                                  'rms','sources','types','tz'])\n",
    "terremo1.sample(2)"
   ]
  },
  {
   "cell_type": "code",
   "execution_count": null,
   "metadata": {},
   "outputs": [],
   "source": [
    "terremoto = pd.concat([terremo1, terremo2], axis=1)\n",
    "terremoto"
   ]
  },
  {
   "cell_type": "code",
   "execution_count": null,
   "metadata": {},
   "outputs": [],
   "source": [
    "terremoto.time = terremoto.time.astype('datetime64[ns]')\n",
    "terremoto"
   ]
  },
  {
   "cell_type": "code",
   "execution_count": null,
   "metadata": {},
   "outputs": [],
   "source": [
    "terremoto.time = terremoto['time'].apply(lambda x: x.strftime(\"%Y-%m-%d %H:%M:%S.%f\")[:-3])\n",
    "terremoto"
   ]
  },
  {
   "cell_type": "code",
   "execution_count": null,
   "metadata": {},
   "outputs": [],
   "source": [
    "terremoto['ciudad'] = terremoto.place.str.split(',').str.get(1).str.strip()\n",
    "terremoto"
   ]
  },
  {
   "cell_type": "markdown",
   "metadata": {},
   "source": [
    "# Análisis"
   ]
  },
  {
   "cell_type": "code",
   "execution_count": null,
   "metadata": {},
   "outputs": [],
   "source": [
    "terremoto.info()"
   ]
  },
  {
   "cell_type": "code",
   "execution_count": null,
   "metadata": {},
   "outputs": [],
   "source": [
    "terremoto.describe().T"
   ]
  },
  {
   "cell_type": "code",
   "execution_count": null,
   "metadata": {},
   "outputs": [],
   "source": [
    "terremoto.isna().sum()"
   ]
  },
  {
   "cell_type": "code",
   "execution_count": null,
   "metadata": {},
   "outputs": [],
   "source": [
    "terremoto = terremoto.drop(columns=['felt','cdi','alert'])\n",
    "terremoto.sample(5)"
   ]
  },
  {
   "cell_type": "code",
   "execution_count": null,
   "metadata": {},
   "outputs": [],
   "source": [
    "sns.boxplot(terremoto)"
   ]
  },
  {
   "cell_type": "code",
   "execution_count": null,
   "metadata": {},
   "outputs": [],
   "source": [
    "corr = terremoto.corr(numeric_only=True)\n",
    "mascara = np.triu(terremoto,1)\n",
    "mascara = np.triu(np.ones_like(corr, dtype=bool)) # generamos la máscara para la triangular superior\n",
    "color_map = sns.diverging_palette(220, 20, as_cmap=True) # Paleta de colores\n",
    "sns.heatmap(corr,  \n",
    "            mask = mascara,\n",
    "            cmap=color_map,\n",
    "            square=True, #que los datos se vean como cuadrados\n",
    "            linewidth=0.5, #ancho de línea\n",
    "            vmax=1,\n",
    "            vmin=0,\n",
    "            cbar_kws={\"shrink\": .5\n",
    "                     },# barra lateral\n",
    "            annot=True #Anotacion, que te ponga el valor de la corr() dentro de la casilla\n",
    ");"
   ]
  },
  {
   "cell_type": "code",
   "execution_count": null,
   "metadata": {},
   "outputs": [],
   "source": [
    "terremoto.sample(1)"
   ]
  },
  {
   "cell_type": "code",
   "execution_count": null,
   "metadata": {},
   "outputs": [],
   "source": [
    "ter1 = terremoto.groupby('magType').agg({'mag':'count'}).reset_index()\n",
    "ter1"
   ]
  },
  {
   "cell_type": "code",
   "execution_count": null,
   "metadata": {},
   "outputs": [],
   "source": [
    "fig = px.bar(ter1,x='magType',y='mag',text_auto=True)\n",
    "fig.show()"
   ]
  },
  {
   "cell_type": "code",
   "execution_count": null,
   "metadata": {},
   "outputs": [],
   "source": [
    "ter2 = terremoto[terremoto['tsunami'] == 1].groupby('ciudad').agg({'tsunami': 'count'}).sort_values('tsunami', ascending=False)[0:10].reset_index()\n",
    "ter2"
   ]
  },
  {
   "cell_type": "code",
   "execution_count": null,
   "metadata": {},
   "outputs": [],
   "source": [
    "fig = px.bar(ter2,x='ciudad',y='tsunami',text_auto=True)\n",
    "fig.show()"
   ]
  },
  {
   "cell_type": "code",
   "execution_count": null,
   "metadata": {},
   "outputs": [],
   "source": [
    "ter3 = terremoto[terremoto['mag'] > 5].groupby('ciudad').agg({'mag': 'count'}).sort_values('mag', ascending=False)[0:10].reset_index()\n",
    "ter3"
   ]
  },
  {
   "cell_type": "code",
   "execution_count": null,
   "metadata": {},
   "outputs": [],
   "source": [
    "fig = px.scatter(ter3,x='ciudad',y='mag',size='mag')\n",
    "fig.show()"
   ]
  },
  {
   "cell_type": "code",
   "execution_count": null,
   "metadata": {},
   "outputs": [],
   "source": [
    "ter4 = terremoto[['longitud','latitud']].mean().reset_index()# hacer histograma de latitud y longitud\n",
    "ter4"
   ]
  },
  {
   "cell_type": "code",
   "execution_count": null,
   "metadata": {},
   "outputs": [],
   "source": [
    "ter5 = terremoto.groupby('ciudad').agg({'sig':'mean'}).sort_values('sig', ascending=False)[0:10].round(2).reset_index()\n",
    "ter5"
   ]
  },
  {
   "cell_type": "code",
   "execution_count": null,
   "metadata": {},
   "outputs": [],
   "source": [
    "fig = px.bar(ter5,x='ciudad',y='sig',text_auto=True)\n",
    "fig.show()"
   ]
  },
  {
   "cell_type": "code",
   "execution_count": null,
   "metadata": {
    "scrolled": false
   },
   "outputs": [],
   "source": [
    "terremoto['time'] = pd.to_datetime(terremoto['time'])\n",
    "terremoto['tiempo'] = terremoto['time'].dt.time\n",
    "terremoto"
   ]
  },
  {
   "cell_type": "code",
   "execution_count": null,
   "metadata": {},
   "outputs": [],
   "source": [
    "terremoto2 = terremoto[['latitud', 'longitud','tiempo']]\n",
    "terremoto2"
   ]
  },
  {
   "cell_type": "code",
   "execution_count": null,
   "metadata": {},
   "outputs": [],
   "source": [
    "mapa = folium.Map(location=[terremoto2['latitud'][1], terremoto2['longitud'][2]], zoom_start=2, )\n",
    "for i, row in terremoto2.iterrows():\n",
    "    if i == 0: #punto donde empiezo a trackear la ISS\n",
    "        folium.Marker(location=[row['latitud'], row['longitud']], tooltip = row['tiempo'], icon=folium.Icon(color='green')).add_to(mapa)\n",
    "    elif i == len(terremoto2)-1: #punto final del recorrido\n",
    "        folium.Marker(location=[row['latitud'], row['longitud']], tooltip = row['tiempo'], icon=folium.Icon(color='red')).add_to(mapa)\n",
    "    else:    \n",
    "        folium.Marker(location=[row['latitud'], row['longitud']], tooltip = row['tiempo']).add_to(mapa)\n",
    "mapa"
   ]
  }
 ],
 "metadata": {
  "kernelspec": {
   "display_name": "Python 3 (ipykernel)",
   "language": "python",
   "name": "python3"
  },
  "language_info": {
   "codemirror_mode": {
    "name": "ipython",
    "version": 3
   },
   "file_extension": ".py",
   "mimetype": "text/x-python",
   "name": "python",
   "nbconvert_exporter": "python",
   "pygments_lexer": "ipython3",
   "version": "3.11.4"
  }
 },
 "nbformat": 4,
 "nbformat_minor": 2
}
